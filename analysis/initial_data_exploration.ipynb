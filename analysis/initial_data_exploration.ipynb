{
 "cells": [
  {
   "cell_type": "code",
   "execution_count": 14,
   "id": "95a2c57b",
   "metadata": {},
   "outputs": [],
   "source": [
    "# Import the required libraries\n",
    "\n",
    "import pandas as pd\n",
    "import matplotlib.pyplot as plt\n",
    "import numpy as np\n",
    "import os\n",
    "import warnings\n",
    "\n",
    "# Set any preferences you want for the notebook\n",
    "warnings.filterwarnings('ignore')"
   ]
  },
  {
   "cell_type": "code",
   "execution_count": 2,
   "id": "7ce3df29",
   "metadata": {},
   "outputs": [
    {
     "data": {
      "text/plain": [
       "['.DS_Store', 'analysis', 'docs', 'README.md', '.git', 'data']"
      ]
     },
     "execution_count": 2,
     "metadata": {},
     "output_type": "execute_result"
    }
   ],
   "source": [
    "# Set the home directory to the main repository page\n",
    "\n",
    "os.chdir('..')\n",
    "os.listdir()"
   ]
  },
  {
   "cell_type": "code",
   "execution_count": 3,
   "id": "1bbaaf25",
   "metadata": {},
   "outputs": [],
   "source": [
    "# Read in the dataset\n",
    "\n",
    "df = pd.read_csv('data/data.csv')"
   ]
  },
  {
   "cell_type": "code",
   "execution_count": 4,
   "id": "09ae0ab0",
   "metadata": {},
   "outputs": [
    {
     "data": {
      "text/html": [
       "<div>\n",
       "<style scoped>\n",
       "    .dataframe tbody tr th:only-of-type {\n",
       "        vertical-align: middle;\n",
       "    }\n",
       "\n",
       "    .dataframe tbody tr th {\n",
       "        vertical-align: top;\n",
       "    }\n",
       "\n",
       "    .dataframe thead th {\n",
       "        text-align: right;\n",
       "    }\n",
       "</style>\n",
       "<table border=\"1\" class=\"dataframe\">\n",
       "  <thead>\n",
       "    <tr style=\"text-align: right;\">\n",
       "      <th></th>\n",
       "      <th>Compensation</th>\n",
       "      <th>Log(sales)</th>\n",
       "      <th>Stock return</th>\n",
       "      <th>Volatility</th>\n",
       "      <th>Board size</th>\n",
       "      <th>Fraction of female</th>\n",
       "      <th>Fraction of independent</th>\n",
       "      <th>Gender</th>\n",
       "      <th>Age</th>\n",
       "      <th>Tenure</th>\n",
       "      <th>Number of other directorship</th>\n",
       "      <th>Retired</th>\n",
       "    </tr>\n",
       "  </thead>\n",
       "  <tbody>\n",
       "    <tr>\n",
       "      <th>0</th>\n",
       "      <td>597.777996</td>\n",
       "      <td>16.058474</td>\n",
       "      <td>0.503737</td>\n",
       "      <td>2.011101</td>\n",
       "      <td>7</td>\n",
       "      <td>0.285714</td>\n",
       "      <td>0.142857</td>\n",
       "      <td>1</td>\n",
       "      <td>59</td>\n",
       "      <td>3</td>\n",
       "      <td>0</td>\n",
       "      <td>1</td>\n",
       "    </tr>\n",
       "    <tr>\n",
       "      <th>1</th>\n",
       "      <td>758.364212</td>\n",
       "      <td>16.058474</td>\n",
       "      <td>0.503737</td>\n",
       "      <td>2.011101</td>\n",
       "      <td>7</td>\n",
       "      <td>0.285714</td>\n",
       "      <td>0.142857</td>\n",
       "      <td>1</td>\n",
       "      <td>58</td>\n",
       "      <td>13</td>\n",
       "      <td>2</td>\n",
       "      <td>1</td>\n",
       "    </tr>\n",
       "    <tr>\n",
       "      <th>2</th>\n",
       "      <td>458.106934</td>\n",
       "      <td>16.058474</td>\n",
       "      <td>0.503737</td>\n",
       "      <td>2.011101</td>\n",
       "      <td>7</td>\n",
       "      <td>0.285714</td>\n",
       "      <td>0.142857</td>\n",
       "      <td>0</td>\n",
       "      <td>57</td>\n",
       "      <td>18</td>\n",
       "      <td>3</td>\n",
       "      <td>1</td>\n",
       "    </tr>\n",
       "    <tr>\n",
       "      <th>3</th>\n",
       "      <td>327.713700</td>\n",
       "      <td>16.058474</td>\n",
       "      <td>0.503737</td>\n",
       "      <td>2.011101</td>\n",
       "      <td>7</td>\n",
       "      <td>0.285714</td>\n",
       "      <td>0.142857</td>\n",
       "      <td>0</td>\n",
       "      <td>71</td>\n",
       "      <td>12</td>\n",
       "      <td>0</td>\n",
       "      <td>1</td>\n",
       "    </tr>\n",
       "    <tr>\n",
       "      <th>4</th>\n",
       "      <td>433.986229</td>\n",
       "      <td>16.058474</td>\n",
       "      <td>0.503737</td>\n",
       "      <td>2.011101</td>\n",
       "      <td>7</td>\n",
       "      <td>0.285714</td>\n",
       "      <td>0.142857</td>\n",
       "      <td>0</td>\n",
       "      <td>63</td>\n",
       "      <td>6</td>\n",
       "      <td>3</td>\n",
       "      <td>1</td>\n",
       "    </tr>\n",
       "  </tbody>\n",
       "</table>\n",
       "</div>"
      ],
      "text/plain": [
       "   Compensation  Log(sales)  Stock return  Volatility  Board size  \\\n",
       "0    597.777996   16.058474      0.503737    2.011101           7   \n",
       "1    758.364212   16.058474      0.503737    2.011101           7   \n",
       "2    458.106934   16.058474      0.503737    2.011101           7   \n",
       "3    327.713700   16.058474      0.503737    2.011101           7   \n",
       "4    433.986229   16.058474      0.503737    2.011101           7   \n",
       "\n",
       "   Fraction of female  Fraction of independent  Gender  Age  Tenure  \\\n",
       "0            0.285714                 0.142857       1   59       3   \n",
       "1            0.285714                 0.142857       1   58      13   \n",
       "2            0.285714                 0.142857       0   57      18   \n",
       "3            0.285714                 0.142857       0   71      12   \n",
       "4            0.285714                 0.142857       0   63       6   \n",
       "\n",
       "   Number of other directorship  Retired  \n",
       "0                             0        1  \n",
       "1                             2        1  \n",
       "2                             3        1  \n",
       "3                             0        1  \n",
       "4                             3        1  "
      ]
     },
     "execution_count": 4,
     "metadata": {},
     "output_type": "execute_result"
    }
   ],
   "source": [
    "# Show the first 5 rows\n",
    "\n",
    "df.head(5)"
   ]
  },
  {
   "cell_type": "code",
   "execution_count": 15,
   "id": "42fe62ab",
   "metadata": {},
   "outputs": [],
   "source": [
    "# Create a column called 'company' which identifies where a company belongs to\n",
    "\n",
    "df['company'] = 1\n",
    "\n",
    "company_number = 1\n",
    "for i in range(1, len(df['company'])):\n",
    "    if df['Stock return'][i] == df['Stock return'][i-1]:\n",
    "        df['company'][i] = company_number\n",
    "    else:\n",
    "        company_number = company_number + 1\n",
    "        df['company'][i] = company_number"
   ]
  },
  {
   "cell_type": "code",
   "execution_count": 13,
   "id": "d54cd0aa",
   "metadata": {},
   "outputs": [],
   "source": [
    "# Create a raw sales columm by taking the exponent of the Log(sales) column\n",
    "\n",
    "df['sales'] = np.exp(df['Log(sales)'])"
   ]
  }
 ],
 "metadata": {
  "kernelspec": {
   "display_name": "Python 3",
   "language": "python",
   "name": "python3"
  },
  "language_info": {
   "codemirror_mode": {
    "name": "ipython",
    "version": 3
   },
   "file_extension": ".py",
   "mimetype": "text/x-python",
   "name": "python",
   "nbconvert_exporter": "python",
   "pygments_lexer": "ipython3",
   "version": "3.9.5"
  }
 },
 "nbformat": 4,
 "nbformat_minor": 5
}
