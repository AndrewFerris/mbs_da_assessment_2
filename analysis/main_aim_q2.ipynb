{
 "cells": [
  {
   "cell_type": "markdown",
   "id": "49d9e6c6",
   "metadata": {},
   "source": [
    "# Main Aim Question 2\n",
    "\n",
    "## Are there any firm-level factors that affect the total compensation of directors?"
   ]
  },
  {
   "cell_type": "code",
   "execution_count": null,
   "id": "4248d55d",
   "metadata": {},
   "outputs": [],
   "source": []
  }
 ],
 "metadata": {
  "kernelspec": {
   "display_name": "Python 3",
   "language": "python",
   "name": "python3"
  },
  "language_info": {
   "codemirror_mode": {
    "name": "ipython",
    "version": 3
   },
   "file_extension": ".py",
   "mimetype": "text/x-python",
   "name": "python",
   "nbconvert_exporter": "python",
   "pygments_lexer": "ipython3",
   "version": "3.9.5"
  }
 },
 "nbformat": 4,
 "nbformat_minor": 5
}
